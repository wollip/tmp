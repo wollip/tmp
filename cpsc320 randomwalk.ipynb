{
 "cells": [
  {
   "cell_type": "code",
   "execution_count": 1,
   "metadata": {},
   "outputs": [],
   "source": [
    "import numpy as np\n",
    "np.set_printoptions(formatter={'float': '{: 0.2f}'.format})\n"
   ]
  },
  {
   "cell_type": "markdown",
   "metadata": {},
   "source": [
    "# Adjaceny matrix"
   ]
  },
  {
   "cell_type": "code",
   "execution_count": 2,
   "metadata": {},
   "outputs": [
    {
     "name": "stdout",
     "output_type": "stream",
     "text": [
      "[[ 0.00  0.00  0.00  0.50  0.00  0.00  0.00  0.00  0.00  0.00  0.00]\n",
      " [ 0.00  0.00  1.00  0.50  0.33  0.50  0.50  0.50  0.50  0.00  0.00]\n",
      " [ 0.00  1.00  0.00  0.00  0.00  0.00  0.00  0.00  0.00  0.00  0.00]\n",
      " [ 0.00  0.00  0.00  0.00  0.33  0.00  0.00  0.00  0.00  0.00  0.00]\n",
      " [ 0.00  0.00  0.00  0.00  0.00  0.50  0.50  0.50  0.50  1.00  1.00]\n",
      " [ 0.00  0.00  0.00  0.00  0.33  0.00  0.00  0.00  0.00  0.00  0.00]\n",
      " [ 0.00  0.00  0.00  0.00  0.00  0.00  0.00  0.00  0.00  0.00  0.00]\n",
      " [ 0.00  0.00  0.00  0.00  0.00  0.00  0.00  0.00  0.00  0.00  0.00]\n",
      " [ 0.00  0.00  0.00  0.00  0.00  0.00  0.00  0.00  0.00  0.00  0.00]\n",
      " [ 0.00  0.00  0.00  0.00  0.00  0.00  0.00  0.00  0.00  0.00  0.00]\n",
      " [ 0.00  0.00  0.00  0.00  0.00  0.00  0.00  0.00  0.00  0.00  0.00]]\n"
     ]
    }
   ],
   "source": [
    "#       A B C D   E    F   G   H   I   J K \n",
    "mat = [[0,0,0,0.5,   0,  0,  0,  0,  0,0,0],  #A\n",
    "       [0,0,1,0.5,0.33,0.5,0.5,0.5,0.5,0,0],  #B\n",
    "       [0,1,0,  0,   0,  0,  0,  0,  0,0,0],  #C\n",
    "       [0,0,0,  0,0.33,  0,  0,  0,  0,0,0],  #D\n",
    "       [0,0,0,  0,   0,0.5,0.5,0.5,0.5,1,1],  #E\n",
    "       [0,0,0,  0,0.33,  0,  0,  0,  0,0,0],  #F\n",
    "       [0,0,0,  0,   0,  0,  0,  0,  0,0,0],  #G\n",
    "       [0,0,0,  0,   0,  0,  0,  0,  0,0,0],  #H\n",
    "       [0,0,0,  0,   0,  0,  0,  0,  0,0,0],  #I\n",
    "       [0,0,0,  0,   0,  0,  0,  0,  0,0,0],  #J\n",
    "       [0,0,0,  0,   0,  0,  0,  0,  0,0,0]]  #K\n",
    "\n",
    "mat = np.array(mat)\n",
    "print(mat)"
   ]
  },
  {
   "cell_type": "markdown",
   "metadata": {},
   "source": [
    "# Assuming self loop at A\n",
    "\n",
    "If we do not assume something at A, then there is an issue with the rank of the matrix. So, we would have the eigenvalue 0 and the eigenvector [1, 0, 0, 0, ...]"
   ]
  },
  {
   "cell_type": "code",
   "execution_count": 3,
   "metadata": {},
   "outputs": [
    {
     "name": "stdout",
     "output_type": "stream",
     "text": [
      "[[ 1.00  0.00  0.00  0.50  0.00  0.00  0.00  0.00  0.00  0.00  0.00]\n",
      " [ 0.00  0.00  1.00  0.50  0.33  0.50  0.50  0.50  0.50  0.00  0.00]\n",
      " [ 0.00  1.00  0.00  0.00  0.00  0.00  0.00  0.00  0.00  0.00  0.00]\n",
      " [ 0.00  0.00  0.00  0.00  0.33  0.00  0.00  0.00  0.00  0.00  0.00]\n",
      " [ 0.00  0.00  0.00  0.00  0.00  0.50  0.50  0.50  0.50  1.00  1.00]\n",
      " [ 0.00  0.00  0.00  0.00  0.33  0.00  0.00  0.00  0.00  0.00  0.00]\n",
      " [ 0.00  0.00  0.00  0.00  0.00  0.00  0.00  0.00  0.00  0.00  0.00]\n",
      " [ 0.00  0.00  0.00  0.00  0.00  0.00  0.00  0.00  0.00  0.00  0.00]\n",
      " [ 0.00  0.00  0.00  0.00  0.00  0.00  0.00  0.00  0.00  0.00  0.00]\n",
      " [ 0.00  0.00  0.00  0.00  0.00  0.00  0.00  0.00  0.00  0.00  0.00]\n",
      " [ 0.00  0.00  0.00  0.00  0.00  0.00  0.00  0.00  0.00  0.00  0.00]]\n"
     ]
    }
   ],
   "source": [
    "self_loop_mat = np.copy(mat)\n",
    "self_loop_mat[0][0] = 1\n",
    "print(self_loop_mat)"
   ]
  },
  {
   "cell_type": "markdown",
   "metadata": {},
   "source": [
    "### Steady state"
   ]
  },
  {
   "cell_type": "code",
   "execution_count": 4,
   "metadata": {},
   "outputs": [],
   "source": [
    "eigval, eigvec = np.linalg.eig(self_loop_mat)"
   ]
  },
  {
   "cell_type": "code",
   "execution_count": 5,
   "metadata": {},
   "outputs": [
    {
     "name": "stdout",
     "output_type": "stream",
     "text": [
      "[[ 1.00  0.00]\n",
      " [ 0.00  0.50]\n",
      " [ 0.00  0.50]\n",
      " [ 0.00  0.00]\n",
      " [ 0.00  0.00]\n",
      " [ 0.00  0.00]\n",
      " [ 0.00  0.00]\n",
      " [ 0.00  0.00]\n",
      " [ 0.00  0.00]\n",
      " [ 0.00  0.00]\n",
      " [ 0.00  0.00]]\n"
     ]
    }
   ],
   "source": [
    "steady_states = eigvec[:, np.where(eigval==1)[0]]\n",
    "steady_states /= np.sum(steady_states, axis=0)\n",
    "print(steady_states)"
   ]
  },
  {
   "cell_type": "markdown",
   "metadata": {},
   "source": [
    "### Steady state progression\n",
    "\n",
    "Notice that the B->C and C->B becomes a cycle of period 2 at steady state "
   ]
  },
  {
   "cell_type": "code",
   "execution_count": 6,
   "metadata": {},
   "outputs": [
    {
     "name": "stdout",
     "output_type": "stream",
     "text": [
      "prog  a     b     c     d     e     f     g     h     i     j     k     \n",
      " 2 [ 0.15  0.24  0.35  0.12  0.02  0.12  0.00  0.00  0.00  0.00  0.00]\n",
      " 3 [ 0.21  0.47  0.24  0.00  0.06  0.00  0.00  0.00  0.00  0.00  0.00]\n",
      " 4 [ 0.21  0.27  0.47  0.02  0.00  0.02  0.00  0.00  0.00  0.00  0.00]\n",
      " 5 [ 0.22  0.49  0.27  0.00  0.01  0.00  0.00  0.00  0.00  0.00  0.00]\n",
      " 8 [ 0.23  0.27  0.50  0.00  0.00  0.00  0.00  0.00  0.00  0.00  0.00]\n",
      " 9 [ 0.23  0.50  0.27  0.00  0.00  0.00  0.00  0.00  0.00  0.00  0.00]\n",
      "16 [ 0.23  0.27  0.50  0.00  0.00  0.00  0.00  0.00  0.00  0.00  0.00]\n",
      "17 [ 0.23  0.50  0.27  0.00  0.00  0.00  0.00  0.00  0.00  0.00  0.00]\n",
      "32 [ 0.23  0.27  0.50  0.00  0.00  0.00  0.00  0.00  0.00  0.00  0.00]\n",
      "33 [ 0.23  0.50  0.27  0.00  0.00  0.00  0.00  0.00  0.00  0.00  0.00]\n"
     ]
    }
   ],
   "source": [
    "start = np.ones(len(mat)).transpose()/len(mat)\n",
    "\n",
    "def progression(i):\n",
    "    print(\"{:2d}\".format(i), np.matmul(np.linalg.matrix_power(self_loop_mat, i), start))\n",
    "\n",
    "print((\"{:6s}\"*12).format(\"prog\", *list(map(chr, range(97, 123)))))\n",
    "for i in range(1, 6):\n",
    "    progression(2**i)\n",
    "    progression(2**i+1)"
   ]
  },
  {
   "cell_type": "markdown",
   "metadata": {},
   "source": [
    "# Assuming random jump at A\n",
    "\n",
    "If we do not assume something at A, then there is an issue with the rank of the matrix. So, we would have the eigenvalue 0 and the eigenvector [1, 0, 0, 0, ...]"
   ]
  },
  {
   "cell_type": "code",
   "execution_count": 7,
   "metadata": {},
   "outputs": [
    {
     "name": "stdout",
     "output_type": "stream",
     "text": [
      "[[ 0.09  0.00  0.00  0.50  0.00  0.00  0.00  0.00  0.00  0.00  0.00]\n",
      " [ 0.09  0.00  1.00  0.50  0.33  0.50  0.50  0.50  0.50  0.00  0.00]\n",
      " [ 0.09  1.00  0.00  0.00  0.00  0.00  0.00  0.00  0.00  0.00  0.00]\n",
      " [ 0.09  0.00  0.00  0.00  0.33  0.00  0.00  0.00  0.00  0.00  0.00]\n",
      " [ 0.09  0.00  0.00  0.00  0.00  0.50  0.50  0.50  0.50  1.00  1.00]\n",
      " [ 0.09  0.00  0.00  0.00  0.33  0.00  0.00  0.00  0.00  0.00  0.00]\n",
      " [ 0.09  0.00  0.00  0.00  0.00  0.00  0.00  0.00  0.00  0.00  0.00]\n",
      " [ 0.09  0.00  0.00  0.00  0.00  0.00  0.00  0.00  0.00  0.00  0.00]\n",
      " [ 0.09  0.00  0.00  0.00  0.00  0.00  0.00  0.00  0.00  0.00  0.00]\n",
      " [ 0.09  0.00  0.00  0.00  0.00  0.00  0.00  0.00  0.00  0.00  0.00]\n",
      " [ 0.09  0.00  0.00  0.00  0.00  0.00  0.00  0.00  0.00  0.00  0.00]]\n"
     ]
    }
   ],
   "source": [
    "random_jump_mat = np.copy(mat)\n",
    "random_jump_mat[:, 0] = 1/len(mat)\n",
    "print(random_jump_mat)"
   ]
  },
  {
   "cell_type": "markdown",
   "metadata": {},
   "source": [
    "### Steady state"
   ]
  },
  {
   "cell_type": "code",
   "execution_count": 8,
   "metadata": {},
   "outputs": [],
   "source": [
    "eigval, eigvec = np.linalg.eig(random_jump_mat)"
   ]
  },
  {
   "cell_type": "code",
   "execution_count": 9,
   "metadata": {},
   "outputs": [
    {
     "name": "stdout",
     "output_type": "stream",
     "text": [
      "[[ 0.00]\n",
      " [ 0.50]\n",
      " [ 0.50]\n",
      " [ 0.00]\n",
      " [ 0.00]\n",
      " [ 0.00]\n",
      " [ 0.00]\n",
      " [ 0.00]\n",
      " [ 0.00]\n",
      " [ 0.00]\n",
      " [ 0.00]]\n"
     ]
    }
   ],
   "source": [
    "steady_states = np.real(eigvec[:, np.where(np.isclose(eigval,1))[0]])\n",
    "steady_states /= np.sum(steady_states, axis=0)\n",
    "print(steady_states)"
   ]
  },
  {
   "cell_type": "markdown",
   "metadata": {},
   "source": [
    "### Steady state progression\n",
    "\n",
    "Notice that the B->C and C->B becomes a cycle of period 2 at steady state. Also not that the value at A is now 0. "
   ]
  },
  {
   "cell_type": "code",
   "execution_count": 10,
   "metadata": {},
   "outputs": [
    {
     "name": "stdout",
     "output_type": "stream",
     "text": [
      "prog  a     b     c     d     e     f     g     h     i     j     k     \n",
      " 2 [ 0.02  0.28  0.36  0.13  0.05  0.13  0.00  0.00  0.00  0.00  0.00]\n",
      " 3 [ 0.07  0.52  0.28  0.02  0.08  0.02  0.00  0.00  0.00  0.00  0.00]\n",
      " 4 [ 0.02  0.34  0.52  0.03  0.02  0.03  0.01  0.01  0.01  0.01  0.01]\n",
      " 5 [ 0.02  0.57  0.34  0.01  0.04  0.01  0.00  0.00  0.00  0.00  0.00]\n",
      " 8 [ 0.00  0.37  0.60  0.01  0.00  0.01  0.00  0.00  0.00  0.00  0.00]\n",
      " 9 [ 0.00  0.61  0.37  0.00  0.01  0.00  0.00  0.00  0.00  0.00  0.00]\n",
      "16 [ 0.00  0.38  0.61  0.00  0.00  0.00  0.00  0.00  0.00  0.00  0.00]\n",
      "17 [ 0.00  0.61  0.38  0.00  0.00  0.00  0.00  0.00  0.00  0.00  0.00]\n",
      "32 [ 0.00  0.38  0.61  0.00  0.00  0.00  0.00  0.00  0.00  0.00  0.00]\n",
      "33 [ 0.00  0.61  0.38  0.00  0.00  0.00  0.00  0.00  0.00  0.00  0.00]\n"
     ]
    }
   ],
   "source": [
    "start = np.ones(len(mat)).transpose()/len(mat)\n",
    "\n",
    "def progression(i):\n",
    "    print(\"{:2d}\".format(i), np.matmul(np.linalg.matrix_power(random_jump_mat, i), start))\n",
    "\n",
    "print((\"{:6s}\"*12).format(\"prog\", *list(map(chr, range(97, 123)))))\n",
    "for i in range(1, 6):\n",
    "    progression(2**i)\n",
    "    progression(2**i+1)"
   ]
  },
  {
   "cell_type": "code",
   "execution_count": null,
   "metadata": {},
   "outputs": [],
   "source": []
  }
 ],
 "metadata": {
  "kernelspec": {
   "display_name": "Python 3",
   "language": "python",
   "name": "python3"
  },
  "language_info": {
   "codemirror_mode": {
    "name": "ipython",
    "version": 3
   },
   "file_extension": ".py",
   "mimetype": "text/x-python",
   "name": "python",
   "nbconvert_exporter": "python",
   "pygments_lexer": "ipython3",
   "version": "3.7.3"
  }
 },
 "nbformat": 4,
 "nbformat_minor": 2
}
